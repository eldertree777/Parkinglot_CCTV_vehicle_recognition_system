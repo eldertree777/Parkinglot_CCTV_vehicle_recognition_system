{
 "cells": [
  {
   "cell_type": "code",
   "execution_count": 2,
   "id": "c0e0d24e",
   "metadata": {},
   "outputs": [
    {
     "name": "stderr",
     "output_type": "stream",
     "text": [
      "Cloning into 'yolov5'...\n"
     ]
    }
   ],
   "source": [
    "!git clone https://github.com/ultralytics/yolov5"
   ]
  },
  {
   "cell_type": "code",
   "execution_count": 1,
   "id": "65e30838",
   "metadata": {},
   "outputs": [
    {
     "name": "stdout",
     "output_type": "stream",
     "text": [
      "D:\\code\\YOLO\\yolov5\n"
     ]
    }
   ],
   "source": [
    "cd yolov5"
   ]
  },
  {
   "cell_type": "code",
   "execution_count": 12,
   "id": "be9d76d1",
   "metadata": {},
   "outputs": [
    {
     "name": "stdout",
     "output_type": "stream",
     "text": [
      "Requirement already satisfied: matplotlib>=3.2.2 in c:\\programdata\\anaconda3\\lib\\site-packages (from -r requirements.txt (line 4)) (3.3.4)\n",
      "Requirement already satisfied: numpy>=1.18.5 in c:\\programdata\\anaconda3\\lib\\site-packages (from -r requirements.txt (line 5)) (1.19.5)\n",
      "Requirement already satisfied: opencv-python>=4.1.2 in c:\\programdata\\anaconda3\\lib\\site-packages (from -r requirements.txt (line 6)) (4.5.3.56)\n",
      "Requirement already satisfied: Pillow>=7.1.2 in c:\\programdata\\anaconda3\\lib\\site-packages (from -r requirements.txt (line 7)) (8.2.0)\n",
      "Requirement already satisfied: PyYAML>=5.3.1 in c:\\programdata\\anaconda3\\lib\\site-packages (from -r requirements.txt (line 8)) (5.4.1)\n",
      "Requirement already satisfied: requests>=2.23.0 in c:\\programdata\\anaconda3\\lib\\site-packages (from -r requirements.txt (line 9)) (2.25.1)\n",
      "Requirement already satisfied: scipy>=1.4.1 in c:\\programdata\\anaconda3\\lib\\site-packages (from -r requirements.txt (line 10)) (1.5.4)\n",
      "Requirement already satisfied: torch>=1.7.0 in c:\\programdata\\anaconda3\\lib\\site-packages (from -r requirements.txt (line 11)) (1.9.1)\n",
      "Requirement already satisfied: torchvision>=0.8.1 in c:\\programdata\\anaconda3\\lib\\site-packages (from -r requirements.txt (line 12)) (0.10.1)\n",
      "Requirement already satisfied: tqdm>=4.41.0 in c:\\programdata\\anaconda3\\lib\\site-packages (from -r requirements.txt (line 13)) (4.59.0)\n",
      "Requirement already satisfied: tensorboard>=2.4.1 in c:\\users\\elder\\appdata\\roaming\\python\\python38\\site-packages (from -r requirements.txt (line 16)) (2.5.0)\n",
      "Requirement already satisfied: pandas>=1.1.4 in c:\\programdata\\anaconda3\\lib\\site-packages (from -r requirements.txt (line 20)) (1.2.4)\n",
      "Requirement already satisfied: seaborn>=0.11.0 in c:\\programdata\\anaconda3\\lib\\site-packages (from -r requirements.txt (line 21)) (0.11.1)\n",
      "Requirement already satisfied: thop in c:\\programdata\\anaconda3\\lib\\site-packages (from -r requirements.txt (line 36)) (0.0.31.post2005241907)\n",
      "Requirement already satisfied: kiwisolver>=1.0.1 in c:\\programdata\\anaconda3\\lib\\site-packages (from matplotlib>=3.2.2->-r requirements.txt (line 4)) (1.3.1)\n",
      "Requirement already satisfied: pyparsing!=2.0.4,!=2.1.2,!=2.1.6,>=2.0.3 in c:\\programdata\\anaconda3\\lib\\site-packages (from matplotlib>=3.2.2->-r requirements.txt (line 4)) (2.4.7)\n",
      "Requirement already satisfied: python-dateutil>=2.1 in c:\\programdata\\anaconda3\\lib\\site-packages (from matplotlib>=3.2.2->-r requirements.txt (line 4)) (2.8.1)\n",
      "Requirement already satisfied: cycler>=0.10 in c:\\programdata\\anaconda3\\lib\\site-packages (from matplotlib>=3.2.2->-r requirements.txt (line 4)) (0.10.0)\n",
      "Requirement already satisfied: pytz>=2017.3 in c:\\programdata\\anaconda3\\lib\\site-packages (from pandas>=1.1.4->-r requirements.txt (line 20)) (2021.1)\n",
      "Requirement already satisfied: chardet<5,>=3.0.2 in c:\\programdata\\anaconda3\\lib\\site-packages (from requests>=2.23.0->-r requirements.txt (line 9)) (4.0.0)\n",
      "Requirement already satisfied: idna<3,>=2.5 in c:\\programdata\\anaconda3\\lib\\site-packages (from requests>=2.23.0->-r requirements.txt (line 9)) (2.10)\n",
      "Requirement already satisfied: urllib3<1.27,>=1.21.1 in c:\\programdata\\anaconda3\\lib\\site-packages (from requests>=2.23.0->-r requirements.txt (line 9)) (1.26.4)\n",
      "Requirement already satisfied: certifi>=2017.4.17 in c:\\programdata\\anaconda3\\lib\\site-packages (from requests>=2.23.0->-r requirements.txt (line 9)) (2020.12.5)\n",
      "Requirement already satisfied: protobuf>=3.6.0 in c:\\programdata\\anaconda3\\lib\\site-packages (from tensorboard>=2.4.1->-r requirements.txt (line 16)) (3.17.3)\n",
      "Requirement already satisfied: setuptools>=41.0.0 in c:\\programdata\\anaconda3\\lib\\site-packages (from tensorboard>=2.4.1->-r requirements.txt (line 16)) (52.0.0.post20210125)\n",
      "Requirement already satisfied: werkzeug>=0.11.15 in c:\\programdata\\anaconda3\\lib\\site-packages (from tensorboard>=2.4.1->-r requirements.txt (line 16)) (1.0.1)\n",
      "Requirement already satisfied: google-auth-oauthlib<0.5,>=0.4.1 in c:\\users\\elder\\appdata\\roaming\\python\\python38\\site-packages (from tensorboard>=2.4.1->-r requirements.txt (line 16)) (0.4.4)\n",
      "Requirement already satisfied: wheel>=0.26 in c:\\programdata\\anaconda3\\lib\\site-packages (from tensorboard>=2.4.1->-r requirements.txt (line 16)) (0.36.2)\n",
      "Requirement already satisfied: google-auth<2,>=1.6.3 in c:\\programdata\\anaconda3\\lib\\site-packages (from tensorboard>=2.4.1->-r requirements.txt (line 16)) (1.32.0)\n",
      "Requirement already satisfied: tensorboard-data-server<0.7.0,>=0.6.0 in c:\\programdata\\anaconda3\\lib\\site-packages (from tensorboard>=2.4.1->-r requirements.txt (line 16)) (0.6.1)\n",
      "Requirement already satisfied: absl-py>=0.4 in c:\\users\\elder\\appdata\\roaming\\python\\python38\\site-packages (from tensorboard>=2.4.1->-r requirements.txt (line 16)) (0.13.0)\n",
      "Requirement already satisfied: tensorboard-plugin-wit>=1.6.0 in c:\\programdata\\anaconda3\\lib\\site-packages (from tensorboard>=2.4.1->-r requirements.txt (line 16)) (1.8.0)\n",
      "Requirement already satisfied: grpcio>=1.24.3 in c:\\users\\elder\\appdata\\roaming\\python\\python38\\site-packages (from tensorboard>=2.4.1->-r requirements.txt (line 16)) (1.34.1)\n",
      "Requirement already satisfied: markdown>=2.6.8 in c:\\users\\elder\\appdata\\roaming\\python\\python38\\site-packages (from tensorboard>=2.4.1->-r requirements.txt (line 16)) (3.3.4)\n",
      "Requirement already satisfied: typing-extensions in c:\\programdata\\anaconda3\\lib\\site-packages (from torch>=1.7.0->-r requirements.txt (line 11)) (3.7.4.3)\n",
      "Requirement already satisfied: six in c:\\programdata\\anaconda3\\lib\\site-packages (from absl-py>=0.4->tensorboard>=2.4.1->-r requirements.txt (line 16)) (1.15.0)\n",
      "Requirement already satisfied: pyasn1-modules>=0.2.1 in c:\\programdata\\anaconda3\\lib\\site-packages (from google-auth<2,>=1.6.3->tensorboard>=2.4.1->-r requirements.txt (line 16)) (0.2.8)\n",
      "Requirement already satisfied: rsa<5,>=3.1.4 in c:\\programdata\\anaconda3\\lib\\site-packages (from google-auth<2,>=1.6.3->tensorboard>=2.4.1->-r requirements.txt (line 16)) (4.7.2)\n",
      "Requirement already satisfied: cachetools<5.0,>=2.0.0 in c:\\programdata\\anaconda3\\lib\\site-packages (from google-auth<2,>=1.6.3->tensorboard>=2.4.1->-r requirements.txt (line 16)) (4.2.2)\n",
      "Requirement already satisfied: requests-oauthlib>=0.7.0 in c:\\programdata\\anaconda3\\lib\\site-packages (from google-auth-oauthlib<0.5,>=0.4.1->tensorboard>=2.4.1->-r requirements.txt (line 16)) (1.3.0)\n",
      "Requirement already satisfied: pyasn1<0.5.0,>=0.4.6 in c:\\programdata\\anaconda3\\lib\\site-packages (from pyasn1-modules>=0.2.1->google-auth<2,>=1.6.3->tensorboard>=2.4.1->-r requirements.txt (line 16)) (0.4.8)\n",
      "Requirement already satisfied: oauthlib>=3.0.0 in c:\\programdata\\anaconda3\\lib\\site-packages (from requests-oauthlib>=0.7.0->google-auth-oauthlib<0.5,>=0.4.1->tensorboard>=2.4.1->-r requirements.txt (line 16)) (3.1.1)\n",
      "Note: you may need to restart the kernel to use updated packages.\n"
     ]
    }
   ],
   "source": [
    "pip install -r requirements.txt"
   ]
  },
  {
   "cell_type": "code",
   "execution_count": 20,
   "id": "90a3f2d2",
   "metadata": {},
   "outputs": [
    {
     "name": "stderr",
     "output_type": "stream",
     "text": [
      "Using cache found in C:\\Users\\elder/.cache\\torch\\hub\\ultralytics_yolov5_master\n",
      "YOLOv5  2021-10-24 torch 1.9.1+cpu CPU\n",
      "\n",
      "Fusing layers... \n",
      "Model Summary: 444 layers, 86705005 parameters, 0 gradients\n",
      "Adding AutoShape... \n",
      "image 1/1: 705x1385 1 person, 26 cars, 3 trucks\n",
      "Speed: 33.0ms pre-process, 966.9ms inference, 1.0ms NMS per image at shape (1, 3, 352, 640)\n"
     ]
    }
   ],
   "source": [
    "import torch\n",
    "import cv2\n",
    "# Model\n",
    "model = torch.hub.load('ultralytics/yolov5', 'yolov5x')  # or yolov5m, yolov5l, yolov5x, custom\n",
    "\n",
    "# Images\n",
    "imgPath = 'D:\\code\\YOLO\\dataset\\img\\parkingLot16.PNG'  # or file, Path, PIL, OpenCV, numpy, list\n",
    "img = cv2.imread(imgPath)[..., ::-1] # Pre-processing OpenCV image (BGR to RGB)\n",
    "\n",
    "# Inference\n",
    "results = model(imgPath)\n",
    "\n",
    "# Results\n",
    "results.print()  # or .show(), .save(), .crop(), .pandas(), etc."
   ]
  },
  {
   "cell_type": "code",
   "execution_count": 21,
   "id": "00d87e6a",
   "metadata": {},
   "outputs": [
    {
     "name": "stdout",
     "output_type": "stream",
     "text": [
      "29\n"
     ]
    }
   ],
   "source": [
    "count = 0\n",
    "for i in range(len(results.pred[0])):\n",
    "    if((results.pred[0][i][-1] == 2) | (results.pred[0][i][-1] == 7) ):\n",
    "        count+=1\n",
    "        \n",
    "        \n",
    "    #print(results.pred[0][i][-1])\n",
    "    \n",
    "print(count)"
   ]
  },
  {
   "cell_type": "code",
   "execution_count": 22,
   "id": "c0321f55",
   "metadata": {},
   "outputs": [
    {
     "name": "stdout",
     "output_type": "stream",
     "text": [
      "\u001b[34m\u001b[1mdetect: \u001b[0mweights=yolov5\\yolov5s.pt, source=D:\\code\\YOLO\\dataset\\img\\car01.jpg, imgsz=[416, 416], conf_thres=0.25, iou_thres=0.45, max_det=1000, device=, view_img=False, save_txt=False, save_conf=False, save_crop=False, nosave=False, classes=None, agnostic_nms=False, augment=False, visualize=False, update=False, project=yolov5\\runs\\detect, name=exp, exist_ok=False, line_thickness=3, hide_labels=False, hide_conf=False, half=False, dnn=False\n",
      "image 1/1 D:\\code\\YOLO\\dataset\\img\\car01.jpg: 256x416 3 cars, 1 motorcycle, Done. (0.078s)\n",
      "Speed: 0.0ms pre-process, 78.1ms inference, 2.0ms NMS per image at shape (1, 3, 416, 416)\n",
      "Results saved to \u001b[1myolov5\\runs\\detect\\exp7\u001b[0m\n"
     ]
    },
    {
     "name": "stderr",
     "output_type": "stream",
     "text": [
      "YOLOv5  v6.0-30-gfee83c1 torch 1.9.1+cpu CPU\n",
      "\n",
      "Fusing layers... \n",
      "Model Summary: 213 layers, 7225885 parameters, 0 gradients\n"
     ]
    }
   ],
   "source": [
    "from IPython.display import Image\n",
    "import os\n",
    "\n",
    "\n",
    "val_img_path = 'D:\\code\\YOLO\\dataset\\img\\car01.jpg'\n",
    " \n",
    "!python yolov5/detect.py --img 416 --conf 0.25 --source \"{val_img_path}\"\n"
   ]
  },
  {
   "cell_type": "code",
   "execution_count": 23,
   "id": "7c4c3eb4",
   "metadata": {},
   "outputs": [],
   "source": [
    "results.show()"
   ]
  },
  {
   "cell_type": "code",
   "execution_count": 15,
   "id": "7845371a",
   "metadata": {},
   "outputs": [
    {
     "data": {
      "text/plain": [
       "2"
      ]
     },
     "execution_count": 15,
     "metadata": {},
     "output_type": "execute_result"
    }
   ],
   "source": [
    "int(results.pred[0][0][-1])"
   ]
  },
  {
   "cell_type": "code",
   "execution_count": 15,
   "id": "f588bd5d",
   "metadata": {},
   "outputs": [
    {
     "name": "stdout",
     "output_type": "stream",
     "text": [
      "D:\\code\\YOLO\n"
     ]
    }
   ],
   "source": [
    "cd .."
   ]
  },
  {
   "cell_type": "code",
   "execution_count": 16,
   "id": "7a5c64c2",
   "metadata": {},
   "outputs": [
    {
     "data": {
      "text/plain": [
       "[tensor([[9.65332e+01, 3.07640e+02, 1.98246e+02, 3.68586e+02, 8.15901e-01, 2.00000e+00],\n",
       "         [1.80664e+02, 2.12295e+02, 2.59223e+02, 2.57889e+02, 7.83305e-01, 2.00000e+00],\n",
       "         [2.09849e+01, 7.51716e+01, 8.49961e+01, 9.80559e+01, 7.56842e-01, 2.00000e+00],\n",
       "         [3.85674e+01, 1.40444e+02, 1.13164e+02, 1.81679e+02, 7.37525e-01, 2.00000e+00],\n",
       "         [5.07934e+02, 2.98186e+02, 5.89234e+02, 3.55122e+02, 6.84680e-01, 2.00000e+00],\n",
       "         [3.08832e+02, 1.83002e+02, 3.92027e+02, 2.34140e+02, 6.83712e-01, 2.00000e+00],\n",
       "         [3.19404e+02, 2.53790e+02, 4.01021e+02, 3.02479e+02, 6.52602e-01, 2.00000e+00],\n",
       "         [4.04749e+02, 2.32780e+02, 4.82857e+02, 2.77483e+02, 6.17212e-01, 2.00000e+00],\n",
       "         [2.03301e+02, 1.50237e+02, 2.72372e+02, 1.83897e+02, 6.00659e-01, 2.00000e+00],\n",
       "         [6.04709e+01, 1.71649e+01, 1.11590e+02, 3.54132e+01, 6.00330e-01, 2.00000e+00],\n",
       "         [1.38447e+02, 1.23323e+02, 2.06058e+02, 1.56988e+02, 5.96444e-01, 2.00000e+00],\n",
       "         [5.30837e+02, 1.98625e+02, 5.92238e+02, 2.37950e+02, 5.34335e-01, 2.00000e+00],\n",
       "         [4.10392e+02, 3.25273e+02, 5.09007e+02, 3.69165e+02, 5.29319e-01, 2.00000e+00],\n",
       "         [4.71717e+02, 2.12855e+02, 5.44159e+02, 2.54703e+02, 5.07009e-01, 2.00000e+00],\n",
       "         [1.77914e+01, 1.29653e+02, 8.02148e+01, 1.69656e+02, 4.18877e-01, 2.00000e+00],\n",
       "         [1.13187e+02, 5.22375e+01, 1.58419e+02, 1.02498e+02, 3.96151e-01, 7.00000e+00],\n",
       "         [1.51704e+02, 3.49441e+02, 2.03332e+02, 3.69510e+02, 3.78610e-01, 2.00000e+00],\n",
       "         [7.51933e+01, 2.15833e+02, 9.19400e+01, 2.52816e+02, 3.75651e-01, 9.00000e+00],\n",
       "         [3.22188e+02, 5.90341e+01, 3.59725e+02, 7.83334e+01, 3.51893e-01, 2.00000e+00],\n",
       "         [4.16156e+02, 1.54948e+02, 4.75403e+02, 1.91928e+02, 3.43858e-01, 2.00000e+00],\n",
       "         [5.68554e+02, 1.38043e+02, 5.99990e+02, 1.67923e+02, 2.98593e-01, 2.00000e+00],\n",
       "         [0.00000e+00, 1.04377e+01, 2.94191e+01, 3.16744e+01, 2.94033e-01, 2.00000e+00],\n",
       "         [3.98431e+02, 1.44905e+02, 4.63171e+02, 1.82933e+02, 2.93623e-01, 2.00000e+00],\n",
       "         [1.55169e+00, 1.20630e+02, 6.49984e+01, 1.55787e+02, 2.92950e-01, 2.00000e+00],\n",
       "         [2.73256e+02, 1.81355e+02, 3.36217e+02, 2.17078e+02, 2.91426e-01, 2.00000e+00],\n",
       "         [2.08610e-01, 1.05631e+02, 4.36175e+01, 1.31519e+02, 2.65062e-01, 2.00000e+00]])]"
      ]
     },
     "execution_count": 16,
     "metadata": {},
     "output_type": "execute_result"
    }
   ],
   "source": [
    "results.pred"
   ]
  },
  {
   "cell_type": "code",
   "execution_count": 4,
   "id": "415b9611",
   "metadata": {},
   "outputs": [
    {
     "ename": "ValueError",
     "evalue": "Cannot embed the 'jpg?1635064771' image format",
     "output_type": "error",
     "traceback": [
      "\u001b[1;31m---------------------------------------------------------------------------\u001b[0m",
      "\u001b[1;31mValueError\u001b[0m                                Traceback (most recent call last)",
      "\u001b[1;32m<ipython-input-4-bdbabaaac65d>\u001b[0m in \u001b[0;36m<module>\u001b[1;34m\u001b[0m\n\u001b[0;32m      2\u001b[0m \u001b[1;33m\u001b[0m\u001b[0m\n\u001b[0;32m      3\u001b[0m \u001b[0mimg\u001b[0m \u001b[1;33m=\u001b[0m \u001b[1;34m'https://parking.hokkaido-airports.co.jp/webcamera/a_parkingcamera.jpg?1635064771'\u001b[0m\u001b[1;33m\u001b[0m\u001b[1;33m\u001b[0m\u001b[0m\n\u001b[1;32m----> 4\u001b[1;33m \u001b[0mImage\u001b[0m\u001b[1;33m(\u001b[0m\u001b[0mimg\u001b[0m\u001b[1;33m)\u001b[0m\u001b[1;33m\u001b[0m\u001b[1;33m\u001b[0m\u001b[0m\n\u001b[0m",
      "\u001b[1;32mC:\\ProgramData\\Anaconda3\\lib\\site-packages\\IPython\\core\\display.py\u001b[0m in \u001b[0;36m__init__\u001b[1;34m(self, data, url, filename, format, embed, width, height, retina, unconfined, metadata)\u001b[0m\n\u001b[0;32m   1214\u001b[0m \u001b[1;33m\u001b[0m\u001b[0m\n\u001b[0;32m   1215\u001b[0m         \u001b[1;32mif\u001b[0m \u001b[0mself\u001b[0m\u001b[1;33m.\u001b[0m\u001b[0membed\u001b[0m \u001b[1;32mand\u001b[0m \u001b[0mself\u001b[0m\u001b[1;33m.\u001b[0m\u001b[0mformat\u001b[0m \u001b[1;32mnot\u001b[0m \u001b[1;32min\u001b[0m \u001b[0mself\u001b[0m\u001b[1;33m.\u001b[0m\u001b[0m_ACCEPTABLE_EMBEDDINGS\u001b[0m\u001b[1;33m:\u001b[0m\u001b[1;33m\u001b[0m\u001b[1;33m\u001b[0m\u001b[0m\n\u001b[1;32m-> 1216\u001b[1;33m             \u001b[1;32mraise\u001b[0m \u001b[0mValueError\u001b[0m\u001b[1;33m(\u001b[0m\u001b[1;34m\"Cannot embed the '%s' image format\"\u001b[0m \u001b[1;33m%\u001b[0m \u001b[1;33m(\u001b[0m\u001b[0mself\u001b[0m\u001b[1;33m.\u001b[0m\u001b[0mformat\u001b[0m\u001b[1;33m)\u001b[0m\u001b[1;33m)\u001b[0m\u001b[1;33m\u001b[0m\u001b[1;33m\u001b[0m\u001b[0m\n\u001b[0m\u001b[0;32m   1217\u001b[0m         \u001b[1;32mif\u001b[0m \u001b[0mself\u001b[0m\u001b[1;33m.\u001b[0m\u001b[0membed\u001b[0m\u001b[1;33m:\u001b[0m\u001b[1;33m\u001b[0m\u001b[1;33m\u001b[0m\u001b[0m\n\u001b[0;32m   1218\u001b[0m             \u001b[0mself\u001b[0m\u001b[1;33m.\u001b[0m\u001b[0m_mimetype\u001b[0m \u001b[1;33m=\u001b[0m \u001b[0mself\u001b[0m\u001b[1;33m.\u001b[0m\u001b[0m_MIMETYPES\u001b[0m\u001b[1;33m.\u001b[0m\u001b[0mget\u001b[0m\u001b[1;33m(\u001b[0m\u001b[0mself\u001b[0m\u001b[1;33m.\u001b[0m\u001b[0mformat\u001b[0m\u001b[1;33m)\u001b[0m\u001b[1;33m\u001b[0m\u001b[1;33m\u001b[0m\u001b[0m\n",
      "\u001b[1;31mValueError\u001b[0m: Cannot embed the 'jpg?1635064771' image format"
     ]
    }
   ],
   "source": [
    "from IPython.display import Image\n",
    "\n",
    "img = 'https://parking.hokkaido-airports.co.jp/webcamera/a_parkingcamera.jpg?1635064771'\n",
    "Image(img)"
   ]
  },
  {
   "cell_type": "code",
   "execution_count": null,
   "id": "b2806fc2",
   "metadata": {},
   "outputs": [],
   "source": [
    "!python detect.py --weights yolov5x.pt --conf 0.3 --source 0 "
   ]
  },
  {
   "cell_type": "code",
   "execution_count": 8,
   "id": "eaf48498",
   "metadata": {},
   "outputs": [
    {
     "name": "stdout",
     "output_type": "stream",
     "text": [
      "D:\\code\\YOLO\\yolov5\n"
     ]
    }
   ],
   "source": [
    "cd yolov5"
   ]
  },
  {
   "cell_type": "code",
   "execution_count": 4,
   "id": "578cd995",
   "metadata": {},
   "outputs": [
    {
     "name": "stderr",
     "output_type": "stream",
     "text": [
      "Using cache found in C:\\Users\\elder/.cache\\torch\\hub\\ultralytics_yolov5_master\n",
      "YOLOv5  2021-10-24 torch 1.9.1+cpu CPU\n",
      "\n",
      "Fusing layers... \n",
      "Model Summary: 213 layers, 7225885 parameters, 0 gradients\n",
      "Adding AutoShape... \n",
      "image 1/1: 1440x2560 1 person, 1 tie, 2 bottles, 3 books\n",
      "Speed: 108.1ms pre-process, 153.1ms inference, 1.0ms NMS per image at shape (1, 3, 384, 640)\n"
     ]
    }
   ],
   "source": [
    "import torch\n",
    "\n",
    "# Model\n",
    "model = torch.hub.load('ultralytics/yolov5', 'yolov5s')  # or yolov5m, yolov5l, yolov5x, custom\n",
    "\n",
    "# Images\n",
    "img = 'D:\\code\\YOLO\\dataset\\img\\규현2.png'  # or file, Path, PIL, OpenCV, numpy, list\n",
    "#img = 'https://parking.hokkaido-airports.co.jp/webcamera/a_parkingcamera.jpg?1635064771'\n",
    "# Inference\n",
    "results = model(img)\n",
    "\n",
    "# Results\n",
    "results.print()  # or .show(), .save(), .crop(), .pandas(), etc."
   ]
  },
  {
   "cell_type": "code",
   "execution_count": 5,
   "id": "7f450364",
   "metadata": {},
   "outputs": [],
   "source": [
    "results.show()"
   ]
  },
  {
   "cell_type": "code",
   "execution_count": null,
   "id": "e61a5acf",
   "metadata": {},
   "outputs": [],
   "source": []
  }
 ],
 "metadata": {
  "kernelspec": {
   "display_name": "Python 3",
   "language": "python",
   "name": "python3"
  },
  "language_info": {
   "codemirror_mode": {
    "name": "ipython",
    "version": 3
   },
   "file_extension": ".py",
   "mimetype": "text/x-python",
   "name": "python",
   "nbconvert_exporter": "python",
   "pygments_lexer": "ipython3",
   "version": "3.8.8"
  }
 },
 "nbformat": 4,
 "nbformat_minor": 5
}
